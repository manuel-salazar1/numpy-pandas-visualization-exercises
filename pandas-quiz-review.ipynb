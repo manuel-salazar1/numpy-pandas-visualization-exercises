{
 "cells": [
  {
   "cell_type": "markdown",
   "id": "29f99436",
   "metadata": {},
   "source": [
    "# Pandas Review using a Pokemon Dataset"
   ]
  },
  {
   "cell_type": "code",
   "execution_count": null,
   "id": "3266ec83",
   "metadata": {},
   "outputs": [],
   "source": [
    "import pandas as pd\n",
    "\n",
    "df = pd.read_csv('https://gist.githubusercontent.com/armgilles/\\\n",
    "194bcff35001e7eb53a2a8b441e8b2c6/raw/92200bc0a673d5ce2110aaad4544ed6c4010f687/pokemon.csv')"
   ]
  },
  {
   "cell_type": "markdown",
   "id": "b6cf483c",
   "metadata": {},
   "source": [
    "### Practice Exercises"
   ]
  },
  {
   "cell_type": "markdown",
   "id": "cecdd334",
   "metadata": {},
   "source": [
    "#### 1. Obtain the following information:\n",
    "    \n",
    "    - dimensions\n",
    "    - dtypes\n",
    "    - column names\n",
    "    - summary statistics\n"
   ]
  },
  {
   "cell_type": "code",
   "execution_count": null,
   "id": "e9d6367e",
   "metadata": {},
   "outputs": [],
   "source": []
  },
  {
   "cell_type": "markdown",
   "id": "0dfe016c",
   "metadata": {},
   "source": [
    "#### 2. Change all the column names\n",
    "      - lowercase letters\n",
    "      - remove whitespace\n",
    "      - remove periods"
   ]
  },
  {
   "cell_type": "code",
   "execution_count": null,
   "id": "2afdbd24",
   "metadata": {},
   "outputs": [],
   "source": []
  },
  {
   "cell_type": "markdown",
   "id": "51e10350",
   "metadata": {},
   "source": [
    "#### 3. What is the highest HP value present?"
   ]
  },
  {
   "cell_type": "code",
   "execution_count": null,
   "id": "3c069c86",
   "metadata": {},
   "outputs": [],
   "source": []
  },
  {
   "cell_type": "markdown",
   "id": "39680199",
   "metadata": {},
   "source": [
    "#### 4. Which Pokemon possess(es) the highest HP value?\n",
    "- note: the `name` column is the pokemon name"
   ]
  },
  {
   "cell_type": "code",
   "execution_count": null,
   "id": "10e85f32",
   "metadata": {},
   "outputs": [],
   "source": []
  },
  {
   "cell_type": "markdown",
   "id": "ff968f0b",
   "metadata": {},
   "source": [
    "#### 5. How many different types are represented in Type 1? What are they?\n"
   ]
  },
  {
   "cell_type": "code",
   "execution_count": null,
   "id": "a8350059",
   "metadata": {},
   "outputs": [],
   "source": []
  },
  {
   "cell_type": "markdown",
   "id": "65b136a0",
   "metadata": {},
   "source": [
    "#### 6. Number of Pokemon whose Type 2 is Ghost"
   ]
  },
  {
   "cell_type": "code",
   "execution_count": null,
   "id": "a5f5565b",
   "metadata": {},
   "outputs": [],
   "source": []
  },
  {
   "cell_type": "markdown",
   "id": "cfdc6cd4",
   "metadata": {},
   "source": [
    "#### 7. Percentage of Pokemon whose Type 2 is Ghost"
   ]
  },
  {
   "cell_type": "code",
   "execution_count": null,
   "id": "14b24a00",
   "metadata": {},
   "outputs": [],
   "source": []
  },
  {
   "cell_type": "markdown",
   "id": "0e596571",
   "metadata": {},
   "source": [
    "#### 8. Number of Pokemon whose Attack is greater than Defense"
   ]
  },
  {
   "cell_type": "code",
   "execution_count": null,
   "id": "e661ff4e",
   "metadata": {},
   "outputs": [],
   "source": []
  },
  {
   "cell_type": "markdown",
   "id": "b6fec6a1",
   "metadata": {},
   "source": [
    "#### 9. What is the slowest speed for Grass type (either type 1 or type 2)"
   ]
  },
  {
   "cell_type": "code",
   "execution_count": null,
   "id": "92635c8e",
   "metadata": {},
   "outputs": [],
   "source": []
  },
  {
   "cell_type": "markdown",
   "id": "538fddbe",
   "metadata": {},
   "source": [
    "#### 10. Find the average speed by Generation"
   ]
  },
  {
   "cell_type": "code",
   "execution_count": null,
   "id": "c0caaeb5",
   "metadata": {},
   "outputs": [],
   "source": []
  },
  {
   "cell_type": "markdown",
   "id": "a4c2f430",
   "metadata": {},
   "source": [
    "#### 11. How many LEGENDARY Pokemon are DRAGON type?"
   ]
  },
  {
   "cell_type": "code",
   "execution_count": null,
   "id": "18f2f94b",
   "metadata": {},
   "outputs": [],
   "source": []
  }
 ],
 "metadata": {
  "kernelspec": {
   "display_name": "Python 3 (ipykernel)",
   "language": "python",
   "name": "python3"
  },
  "language_info": {
   "codemirror_mode": {
    "name": "ipython",
    "version": 3
   },
   "file_extension": ".py",
   "mimetype": "text/x-python",
   "name": "python",
   "nbconvert_exporter": "python",
   "pygments_lexer": "ipython3",
   "version": "3.9.12"
  }
 },
 "nbformat": 4,
 "nbformat_minor": 5
}
